{
 "cells": [
  {
   "cell_type": "code",
   "execution_count": 1,
   "id": "a59be73e",
   "metadata": {
    "execution": {
     "iopub.execute_input": "2021-08-12T12:06:10.217315Z",
     "iopub.status.busy": "2021-08-12T12:06:10.215578Z",
     "iopub.status.idle": "2021-08-12T12:06:18.413398Z",
     "shell.execute_reply": "2021-08-12T12:06:18.411456Z"
    },
    "papermill": {
     "duration": 8.211575,
     "end_time": "2021-08-12T12:06:18.413673",
     "exception": true,
     "start_time": "2021-08-12T12:06:10.202098",
     "status": "failed"
    },
    "tags": []
   },
   "outputs": [
    {
     "name": "stdout",
     "output_type": "stream",
     "text": [
      "Collecting bert_score\r\n",
      "  Downloading bert_score-0.3.10-py3-none-any.whl (59 kB)\r\n",
      "\u001b[K     |████████████████████████████████| 59 kB 735 kB/s \r\n",
      "\u001b[?25hRequirement already satisfied: transformers>=3.0.0numpy in /opt/conda/lib/python3.7/site-packages (from bert_score) (4.6.1)\r\n",
      "Requirement already satisfied: requests in /opt/conda/lib/python3.7/site-packages (from bert_score) (2.25.1)\r\n",
      "Requirement already satisfied: pandas>=1.0.1 in /opt/conda/lib/python3.7/site-packages (from bert_score) (1.2.4)\r\n",
      "Requirement already satisfied: matplotlib in /opt/conda/lib/python3.7/site-packages (from bert_score) (3.4.2)\r\n",
      "Requirement already satisfied: tqdm>=4.31.1 in /opt/conda/lib/python3.7/site-packages (from bert_score) (4.61.1)\r\n",
      "Requirement already satisfied: torch>=1.0.0 in /opt/conda/lib/python3.7/site-packages (from bert_score) (1.7.0)\r\n",
      "Requirement already satisfied: packaging>=20.9 in /opt/conda/lib/python3.7/site-packages (from bert_score) (20.9)\r\n",
      "Requirement already satisfied: pyparsing>=2.0.2 in /opt/conda/lib/python3.7/site-packages (from packaging>=20.9->bert_score) (2.4.7)\r\n",
      "Requirement already satisfied: python-dateutil>=2.7.3 in /opt/conda/lib/python3.7/site-packages (from pandas>=1.0.1->bert_score) (2.8.1)\r\n",
      "Requirement already satisfied: pytz>=2017.3 in /opt/conda/lib/python3.7/site-packages (from pandas>=1.0.1->bert_score) (2021.1)\r\n",
      "Requirement already satisfied: numpy>=1.16.5 in /opt/conda/lib/python3.7/site-packages (from pandas>=1.0.1->bert_score) (1.19.5)\r\n",
      "Requirement already satisfied: six>=1.5 in /opt/conda/lib/python3.7/site-packages (from python-dateutil>=2.7.3->pandas>=1.0.1->bert_score) (1.15.0)\r\n",
      "Requirement already satisfied: future in /opt/conda/lib/python3.7/site-packages (from torch>=1.0.0->bert_score) (0.18.2)\r\n",
      "Requirement already satisfied: typing_extensions in /opt/conda/lib/python3.7/site-packages (from torch>=1.0.0->bert_score) (3.7.4.3)\r\n",
      "Requirement already satisfied: dataclasses in /opt/conda/lib/python3.7/site-packages (from torch>=1.0.0->bert_score) (0.6)\r\n",
      "Requirement already satisfied: filelock in /opt/conda/lib/python3.7/site-packages (from transformers>=3.0.0numpy->bert_score) (3.0.12)\r\n",
      "Requirement already satisfied: tokenizers<0.11,>=0.10.1 in /opt/conda/lib/python3.7/site-packages (from transformers>=3.0.0numpy->bert_score) (0.10.3)\r\n",
      "Requirement already satisfied: sacremoses in /opt/conda/lib/python3.7/site-packages (from transformers>=3.0.0numpy->bert_score) (0.0.45)\r\n",
      "Requirement already satisfied: huggingface-hub==0.0.8 in /opt/conda/lib/python3.7/site-packages (from transformers>=3.0.0numpy->bert_score) (0.0.8)\r\n",
      "Requirement already satisfied: regex!=2019.12.17 in /opt/conda/lib/python3.7/site-packages (from transformers>=3.0.0numpy->bert_score) (2021.4.4)\r\n",
      "Requirement already satisfied: importlib-metadata in /opt/conda/lib/python3.7/site-packages (from transformers>=3.0.0numpy->bert_score) (3.4.0)\r\n",
      "Requirement already satisfied: zipp>=0.5 in /opt/conda/lib/python3.7/site-packages (from importlib-metadata->transformers>=3.0.0numpy->bert_score) (3.4.1)\r\n",
      "Requirement already satisfied: pillow>=6.2.0 in /opt/conda/lib/python3.7/site-packages (from matplotlib->bert_score) (8.2.0)\r\n",
      "Requirement already satisfied: kiwisolver>=1.0.1 in /opt/conda/lib/python3.7/site-packages (from matplotlib->bert_score) (1.3.1)\r\n",
      "Requirement already satisfied: cycler>=0.10 in /opt/conda/lib/python3.7/site-packages (from matplotlib->bert_score) (0.10.0)\r\n",
      "Requirement already satisfied: chardet<5,>=3.0.2 in /opt/conda/lib/python3.7/site-packages (from requests->bert_score) (4.0.0)\r\n",
      "Requirement already satisfied: urllib3<1.27,>=1.21.1 in /opt/conda/lib/python3.7/site-packages (from requests->bert_score) (1.26.5)\r\n",
      "Requirement already satisfied: certifi>=2017.4.17 in /opt/conda/lib/python3.7/site-packages (from requests->bert_score) (2021.5.30)\r\n",
      "Requirement already satisfied: idna<3,>=2.5 in /opt/conda/lib/python3.7/site-packages (from requests->bert_score) (2.10)\r\n",
      "Requirement already satisfied: joblib in /opt/conda/lib/python3.7/site-packages (from sacremoses->transformers>=3.0.0numpy->bert_score) (1.0.1)\r\n",
      "Requirement already satisfied: click in /opt/conda/lib/python3.7/site-packages (from sacremoses->transformers>=3.0.0numpy->bert_score) (7.1.2)\r\n",
      "Installing collected packages: bert-score\r\n",
      "Successfully installed bert-score-0.3.10\r\n",
      "\u001b[33mWARNING: Running pip as root will break packages and permissions. You should install packages reliably by using venv: https://pip.pypa.io/warnings/venv\u001b[0m\r\n"
     ]
    },
    {
     "ename": "NameError",
     "evalue": "name 'sdfsdfsddf' is not defined",
     "output_type": "error",
     "traceback": [
      "\u001b[0;31m---------------------------------------------------------------------------\u001b[0m",
      "\u001b[0;31mNameError\u001b[0m                                 Traceback (most recent call last)",
      "\u001b[0;32m<ipython-input-1-cdecf4283fbb>\u001b[0m in \u001b[0;36m<module>\u001b[0;34m\u001b[0m\n\u001b[1;32m      1\u001b[0m \u001b[0mget_ipython\u001b[0m\u001b[0;34m(\u001b[0m\u001b[0;34m)\u001b[0m\u001b[0;34m.\u001b[0m\u001b[0msystem\u001b[0m\u001b[0;34m(\u001b[0m\u001b[0;34m'pip install bert_score'\u001b[0m\u001b[0;34m)\u001b[0m\u001b[0;34m\u001b[0m\u001b[0;34m\u001b[0m\u001b[0m\n\u001b[0;32m----> 2\u001b[0;31m \u001b[0msdfsdfsddf\u001b[0m\u001b[0;34m\u001b[0m\u001b[0;34m\u001b[0m\u001b[0m\n\u001b[0m\u001b[1;32m      3\u001b[0m \u001b[0;32mimport\u001b[0m \u001b[0mcsv\u001b[0m\u001b[0;34m\u001b[0m\u001b[0;34m\u001b[0m\u001b[0m\n\u001b[1;32m      4\u001b[0m \u001b[0;32mimport\u001b[0m \u001b[0mlogging\u001b[0m\u001b[0;34m\u001b[0m\u001b[0;34m\u001b[0m\u001b[0m\n\u001b[1;32m      5\u001b[0m \u001b[0;32mimport\u001b[0m \u001b[0mrandom\u001b[0m\u001b[0;34m\u001b[0m\u001b[0;34m\u001b[0m\u001b[0m\n",
      "\u001b[0;31mNameError\u001b[0m: name 'sdfsdfsddf' is not defined"
     ]
    }
   ],
   "source": [
    "!pip install bert_score\n",
    "sdfsdfsddf\n",
    "import csv\n",
    "import logging\n",
    "import random\n",
    "\n",
    "import torch\n",
    "import transformers\n",
    "from bert_score import score\n",
    "from transformers import GPT2DoubleHeadsModel, GPT2Tokenizer\n",
    "\n",
    "transformers.tokenization_utils.logger.setLevel(logging.ERROR)\n",
    "transformers.configuration_utils.logger.setLevel(logging.ERROR)\n",
    "transformers.modeling_utils.logger.setLevel(logging.ERROR)"
   ]
  },
  {
   "cell_type": "code",
   "execution_count": null,
   "id": "3b7bbfbf",
   "metadata": {
    "papermill": {
     "duration": null,
     "end_time": null,
     "exception": null,
     "start_time": null,
     "status": "pending"
    },
    "tags": []
   },
   "outputs": [],
   "source": [
    "print(\"Cuda available:\", torch.cuda.is_available())"
   ]
  },
  {
   "cell_type": "code",
   "execution_count": null,
   "id": "d0883d6e",
   "metadata": {
    "papermill": {
     "duration": null,
     "end_time": null,
     "exception": null,
     "start_time": null,
     "status": "pending"
    },
    "tags": []
   },
   "outputs": [],
   "source": [
    "def load_local_model(model):\n",
    "    print(\"Loading\", model)\n",
    "    model = GPT2DoubleHeadsModel.from_pretrained(\"models/\" + model + \"/\", local_files_only=True)\n",
    "    model.to(\"cuda\")\n",
    "    return model"
   ]
  },
  {
   "cell_type": "code",
   "execution_count": null,
   "id": "414f70a8",
   "metadata": {
    "papermill": {
     "duration": null,
     "end_time": null,
     "exception": null,
     "start_time": null,
     "status": "pending"
    },
    "tags": []
   },
   "outputs": [],
   "source": [
    "def load_tokenizer():\n",
    "    tokenizer = GPT2Tokenizer.from_pretrained(\"gpt2\")\n",
    "    special_tokens = {'bos_token': '<|startoftext|>', 'eos_token': '<|endoftext|>', 'pad_token': '<pad>',\n",
    "                      'additional_special_tokens': ['<TITLE>']}\n",
    "    tokenizer.add_special_tokens(special_tokens)\n",
    "    return tokenizer"
   ]
  },
  {
   "cell_type": "code",
   "execution_count": null,
   "id": "4ca0bbb8",
   "metadata": {
    "papermill": {
     "duration": null,
     "end_time": null,
     "exception": null,
     "start_time": null,
     "status": "pending"
    },
    "tags": []
   },
   "outputs": [],
   "source": [
    "def get_abstracts_for_qual_eval():\n",
    "       abstracts = [{\n",
    "        \"Title\": \"GAN-BERT: Generative Adversarial Learning for Robust Text Classification with a Bunch of Labeled Examples\",\n",
    "        \"Abstract\": \"Recent Transformer-based architectures, e.g., BERT, provide impressive results in many Natural Language Processing tasks. However, most of the adopted benchmarks are made of (sometimes hundreds of) thousands of examples. In many real scenarios, obtaining high- quality annotated data is expensive and time consuming; in contrast, unlabeled examples characterizing the target task can be, in general, easily collected. One promising method to enable semi-supervised learning has been proposed in image processing, based on Semi- Supervised Generative Adversarial Networks. In this paper, we propose GAN-BERT that ex- tends the fine-tuning of BERT-like architectures with unlabeled data in a generative adversarial setting. Experimental results show that the requirement for annotated examples can be drastically reduced (up to only 50-100 annotated examples), still obtaining good performances in several sentence classification tasks.\"},\n",
    "        {\"Title\": \"Multi-Agent Task-Oriented Dialog Policy Learning with Role-Aware Reward Decomposition\",\n",
    "         \"Abstract\": \"Many studies have applied reinforcement learning to train a dialog policy and show great promise these years. One common approach is to employ a user simulator to obtain a large number of simulated user experiences for reinforcement learning algorithms. However, modeling a realistic user simulator is challenging. A rule-based simulator requires heavy domain expertise for complex tasks, and a data-driven simulator requires considerable data and it is even unclear how to evaluate a simulator. To avoid explicitly building a user simulator beforehand, we propose Multi-Agent Dialog Policy Learning, which regards both the system and the user as the dialog agents. Two agents interact with each other and are jointly learned simultaneously. The method uses the actor-critic framework to facilitate pretraining and improve scalability. We also propose Hybrid Value Network for the role-aware reward decomposition to integrate role-specific domain knowledge of each agent in the task-oriented dialog. Results show that our method can successfully build a system policy and a user policy simultaneously, and two agents can achieve a high task success rate through conversational interaction.\"},\n",
    "        {\"Title\": \"Chinese Relation Extraction with Multi-Grained Information and External Linguistic Knowledge\",\n",
    "         \"Abstract\": \"Chinese relation extraction is conducted using neural networks with either character-based or word-based inputs, and most existing methods typically suffer from segmentation errors and ambiguity of polysemy. To address the issues, we propose a multi-grained lattice framework (MG lattice) for Chinese relation extraction to take advantage of multi-grained language information and external linguistic knowledge. In this framework, (1) we incorporate word-level information into character sequence inputs so that segmentation errors can be avoided. (2) We also model multiple senses of polysemous words with the help of external linguistic knowledge, so as to alleviate polysemy ambiguity. Experiments on three real-world datasets in distinct domains show consistent and significant superiority and robustness of our model, as compared with other baselines. We will release the source code of this paper in the future.\"},\n",
    "        {\"Title\": \"Empirically Estimating Order Constraints for Content Planning in Generation\",\n",
    "         \"Abstract\": \"In a language generation system, a content planner embodies one or more \\u201cplans\\u201d that are usually hand\\u2013crafted, sometimes through manual analysis of target text. In this paper, we present a system that we developed to automatically learn elements of a plan and the ordering constraints among them. As training data, we use semantically annotated transcripts of domain experts performing the task our system is designed to mimic. Given the large degree of variation in the spoken language of the transcripts, we developed a novel algorithm to find parallels between transcripts based on techniques used in computational genomics. Our proposed methodology was evaluated two\\u2013fold: the learning and generalization capabilities were quantitatively evaluated using cross validation obtaining a level of accuracy of 89%. A qualitative evaluation is also provided.\"},\n",
    "        {\"Title\": \"Improving Distant Supervision for Information Extraction Using Label Propagation Through Lists\",\n",
    "         \"Abstract\": \"Because of polysemy, distant labeling for information extraction leads to noisy training data. We describe a procedure for reducing this noise by using label propagation on a graph in which the nodes are entity mentions, and mentions are coupled when they occur in coordinate list structures. We show that this labeling approach leads to good performance even when off-the-shelf classifiers are used on the distantly-labeled data.\"},\n",
    "        {\"Title\": \"An Extension of BLANC to System Mentions\",\n",
    "         \"Abstract\": \"BLANC is a link-based coreference evaluation metric for measuring the quality of coreference systems on gold mentions. This paper extends the original BLANC (\\u201cBLANC-gold\\u201d henceforth) to system mentions, removing the gold mention assumption. The proposed BLANC falls back seamlessly to the original one if system mentions are identical to gold mentions, and it is shown to strongly correlate with existing metrics on the 2011 and 2012 CoNLL data.\"},\n",
    "        {\"Title\": \"Multi-News: A Large-Scale Multi-Document Summarization Dataset and Abstractive Hierarchical Model\",\n",
    "         \"Abstract\": \"Automatic generation of summaries from multiple news articles is a valuable tool as the number of online publications grows rapidly. Single document summarization (SDS) systems have benefited from advances in neural encoder-decoder model thanks to the availability of large datasets. However, multi-document summarization (MDS) of news articles has been limited to datasets of a couple of hundred examples. In this paper, we introduce Multi-News, the first large-scale MDS news dataset. Additionally, we propose an end-to-end model which incorporates a traditional extractive summarization model with a standard SDS model and achieves competitive results on MDS datasets. We benchmark several methods on Multi-News and hope that this work will promote advances in summarization in the multi-document setting.\"},\n",
    "        {\"Title\": \"Compositional Questions Do Not Necessitate Multi-hop Reasoning\",\n",
    "         \"Abstract\": \"Multi-hop reading comprehension (RC) questions are challenging because they require reading and reasoning over multiple paragraphs. We argue that it can be difficult to construct large multi-hop RC datasets. For example, even highly compositional questions can be answered with a single hop if they target specific entity types, or the facts needed to answer them are redundant. Our analysis is centered on HotpotQA, where we show that single-hop reasoning can solve much more of the dataset than previously thought. We introduce a single-hop BERT-based RC model that achieves 67 F1-comparable to state-of-the-art multi-hop models. We also design an evaluation setting where humans are not shown all of the necessary paragraphs for the intended multi-hop reasoning but can still answer over 80% of questions. Together with detailed error analysis, these results suggest there should be an increasing focus on the role of evidence in multi-hop reasoning and possibly even a shift towards information retrieval style evaluations with large and diverse evidence collections.\"},\n",
    "        {\"Title\": \"Multi-Domain Dialogue Acts and Response Co-Generation\",\n",
    "         \"Abstract\": \"Generating fluent and informative responses is of critical importance for task-oriented dialogue systems. Existing pipeline approaches generally predict multiple dialogue acts first and use them to assist response generation. There are at least two shortcomings with such approaches. First, the inherent structures of multi-domain dialogue acts are neglected. Second, the semantic associations between acts and responses are not taken into account for response generation. To address these issues, we propose a neural co-generation model that generates dialogue acts and responses concurrently. Unlike those pipeline approaches, our act generation module preserves the semantic structures of multi-domain dialogue acts and our response generation module dynamically attends to different acts as needed. We train the two modules jointly using an uncertainty loss to adjust their task weights adaptively. Extensive experiments are conducted on the large-scale MultiWOZ dataset and the results show that our model achieves very favorable improvement over several state-of-the-art models in both automatic and human evaluations.\"},\n",
    "        {\"Title\": \"Structured Tuning for Semantic Role Labeling\",\n",
    "         \"Abstract\": \"Recent neural network-driven semantic role labeling (SRL) systems have shown impressive improvements in F1 scores. These improvements are due to expressive input representations, which, at least at the surface, are orthogonal to knowledge-rich constrained decoding mechanisms that helped linear SRL models. Introducing the benefits of structure to inform neural models presents a methodological challenge. In this paper, we present a structured tuning framework to improve models using softened constraints only at training time. Our framework leverages the expressiveness of neural networks and provides supervision with structured loss components. We start with a strong baseline (RoBERTa) to validate the impact of our approach, and show that our framework outperforms the baseline by learning to comply with declarative constraints. Additionally, our experiments with smaller training sizes show that we can achieve consistent improvements under low-resource scenarios.\"},\n",
    "    ]\n",
    "\n",
    "    return abstracts"
   ]
  },
  {
   "cell_type": "code",
   "execution_count": null,
   "id": "f79bc08b",
   "metadata": {
    "papermill": {
     "duration": null,
     "end_time": null,
     "exception": null,
     "start_time": null,
     "status": "pending"
    },
    "tags": []
   },
   "outputs": [],
   "source": [
    "def import_abstracts(count=-1):\n",
    "    pairs = []\n",
    "    with open(\"abstracts.csv\", newline='', encoding='UTF-8') as testfile:\n",
    "        reader = csv.DictReader(testfile)\n",
    "        for row in reader:\n",
    "            pairs.append({\"Title\": row[\"title\"], \"Abstract\": row[\"abstract\"]})\n",
    "\n",
    "    if count == -1:\n",
    "        return pairs\n",
    "    return random.sample(pairs, count)"
   ]
  },
  {
   "cell_type": "code",
   "execution_count": null,
   "id": "d3c32e3c",
   "metadata": {
    "papermill": {
     "duration": null,
     "end_time": null,
     "exception": null,
     "start_time": null,
     "status": "pending"
    },
    "tags": []
   },
   "outputs": [],
   "source": [
    "def import_test_abstracts(model_name, count=-1):\n",
    "    abstracts = []\n",
    "    with open(f\"models/{model_name}/test.txt\", \"r\") as file:\n",
    "        data = file.read()\n",
    "        inputs_idx = data.index(\"inputs\")\n",
    "        inputs = data[inputs_idx + 10:len(data) - 18]\n",
    "        sequences = inputs.split('<|endoftext|> \", ')\n",
    "        for seq in sequences:\n",
    "            s = seq.split(\" <TITLE> \")\n",
    "            abstracts.append({\"Abstract\": s[0][1:], \"Title\": s[1]})\n",
    "\n",
    "        if count == -1:\n",
    "            return abstracts\n",
    "        return random.sample(abstracts, count)"
   ]
  },
  {
   "cell_type": "code",
   "execution_count": null,
   "id": "2be77a6a",
   "metadata": {
    "papermill": {
     "duration": null,
     "end_time": null,
     "exception": null,
     "start_time": null,
     "status": "pending"
    },
    "tags": []
   },
   "outputs": [],
   "source": [
    "def get_titles_from_abstracts(model, tokenizer, abstracts, \n",
    "                              num_return_sequences=5, max_length=25, min_length=5,\n",
    "                              diversity_penalty=1.0, length_penalty=10.0, repetition_penalty=2.0):\n",
    "    titles = []\n",
    "    for i, abstract in enumerate(abstracts):\n",
    "        if (i + 1) % 100 == 0:\n",
    "            print(f\"{i + 1}/{len(abstracts)}\")\n",
    "        text = abstract[\"Abstract\"] + \" <TITLE> \"\n",
    "        inputs = tokenizer.encode(text, return_tensors=\"pt\").to(\"cuda\")\n",
    "\n",
    "        title_ids = model.generate(inputs,\n",
    "                                   num_beams=num_return_sequences,\n",
    "                                   num_beam_groups=num_return_sequences,\n",
    "                                   num_return_sequences=num_return_sequences,\n",
    "                                   max_length=len(inputs[0]) + max_length,\n",
    "                                   min_length=len(inputs[0]) + min_length,\n",
    "                                   early_stopping=True,\n",
    "                                   diversity_penalty=diversity_penalty,\n",
    "                                   length_penalty=length_penalty,\n",
    "                                   repetition_penalty=repetition_penalty,\n",
    "                                   no_repeat_ngram_size=2,\n",
    "                                   )\n",
    "\n",
    "        titles.append({\"Original\": abstract[\"Title\"],\n",
    "                       \"Titles\": [tokenizer.decode(title, skip_special_tokens=False, clean_up_tokenization_spaces=False)\n",
    "                                  for title in title_ids]})\n",
    "\n",
    "    return titles"
   ]
  },
  {
   "cell_type": "code",
   "execution_count": null,
   "id": "738ee096",
   "metadata": {
    "papermill": {
     "duration": null,
     "end_time": null,
     "exception": null,
     "start_time": null,
     "status": "pending"
    },
    "tags": []
   },
   "outputs": [],
   "source": [
    "def calculate_bert_score(original, candidates, mode=\"max\", verbose=False):\n",
    "    originals = [original] * len(candidates)\n",
    "    \n",
    "    p, r, f1 = score(candidates, originals, lang=\"en\")\n",
    "\n",
    "    if verbose:\n",
    "        print(f\"Original title: {original}\")\n",
    "        print()\n",
    "        for i, candidate in enumerate(candidates):\n",
    "            print(f\"{candidate}\")\n",
    "            print(f\"Precision: {p[i]:.3f}, Recall: {r[i]:.3f}, F1: {f1[i]:.3f}\")\n",
    "            print()\n",
    "        print()\n",
    "\n",
    "    if mode == \"best\":\n",
    "        return candidates[torch.argmax(f1).item()]\n",
    "    if mode == \"max\":\n",
    "        return torch.max(f1).item()\n",
    "    if mode == \"mean\":\n",
    "        return torch.mean(f1).item()\n",
    "    return p, r, f1"
   ]
  },
  {
   "cell_type": "code",
   "execution_count": null,
   "id": "70825102",
   "metadata": {
    "papermill": {
     "duration": null,
     "end_time": null,
     "exception": null,
     "start_time": null,
     "status": "pending"
    },
    "tags": []
   },
   "outputs": [],
   "source": [
    "def quantitative_evaluation():\n",
    "    model_names = [\"2048_default\", \"2048_3e-4\", \"2048_3e-6\", \"2048_epochs\"]\n",
    "\n",
    "    tokenizer = load_tokenizer()\n",
    "\n",
    "    for model_name in model_names:\n",
    "        model = load_local_model(model_name)\n",
    "        model.resize_token_embeddings(len(tokenizer))\n",
    "        pairs = import_test_abstracts(model_name)\n",
    "\n",
    "        titles = get_titles_from_abstracts(model=model,\n",
    "                                           tokenizer=tokenizer,\n",
    "                                           abstracts=pairs,\n",
    "                                           max_length=25,\n",
    "                                           min_length=5)\n",
    "\n",
    "        f1 = []\n",
    "        for i, title_set in enumerate(titles):\n",
    "            if (i + 1) % 100 == 0:\n",
    "            print(f\"{i + 1}/{len(titles)}\")\n",
    "            \n",
    "            trimmed_titles = [title.split(\" <TITLE> \")[1].split(\"<|endoftext|>\")[0] for title in title_set[\"Titles\"]]\n",
    "\n",
    "            f1.append(calculate_bert_score(title_set[\"Original\"],\n",
    "                                           trimmed_titles,\n",
    "                                           mode=\"max\"))\n",
    "\n",
    "        print()\n",
    "        print(f1)\n",
    "        print(sum(f1) / len(f1))\n",
    "        \n",
    "quantitative_evaluation()"
   ]
  },
  {
   "cell_type": "code",
   "execution_count": null,
   "id": "3c666496",
   "metadata": {
    "papermill": {
     "duration": null,
     "end_time": null,
     "exception": null,
     "start_time": null,
     "status": "pending"
    },
    "tags": []
   },
   "outputs": [],
   "source": [
    "def qualitative_evaluation():\n",
    "    model_names = [\"2048_default\", \"2048_3e-4\", \"2048_3e-6\", \"2048_epochs\"]\n",
    "    pairs = get_abstracts_for_qual_eval()\n",
    "\n",
    "    for pair in pairs:\n",
    "        print(pair[\"Title\"])\n",
    "        print(pair[\"Abstract\"])\n",
    "        print()\n",
    "\n",
    "    tokenizer = load_tokenizer()\n",
    "\n",
    "    for model_name in model_names:\n",
    "        model = load_local_model(model_name)\n",
    "        model.resize_token_embeddings(len(tokenizer))\n",
    "        titles = get_titles_from_abstracts(model=model,\n",
    "                                           tokenizer=tokenizer,\n",
    "                                           abstracts=pairs,\n",
    "                                           max_length=25,\n",
    "                                           min_length=5)\n",
    "\n",
    "        for title_set in titles:\n",
    "            print(title_set[\"Original\"])\n",
    "            for title in title_set[\"Titles\"]:\n",
    "                print(title.split(\" <TITLE> \")[1].split(\"<|endoftext|>\")[0])\n",
    "            print()\n",
    "            \n",
    "qualitative_evaluation()"
   ]
  },
  {
   "cell_type": "code",
   "execution_count": null,
   "id": "e7dc8cc6",
   "metadata": {
    "papermill": {
     "duration": null,
     "end_time": null,
     "exception": null,
     "start_time": null,
     "status": "pending"
    },
    "tags": []
   },
   "outputs": [],
   "source": [
    "def get_titles_for_single_abstract(model_name, abstract)\n",
    "    model = load_local_model(model_name)\n",
    "    tokenizer = load_tokenizer()\n",
    "    model.resize_token_embeddings(len(tokenizer))\n",
    "    \n",
    "    abstracts = [{\"Title\": \"\", \"Abstract\": abstract}]\n",
    "    \n",
    "    titles = get_titles_from_abstracts(model, tokenizer, abstracts)\n",
    "    \n",
    "    for title in titles[0][\"Titles\"]:\n",
    "        print(title.split(\" <TITLE> \")[1].split(\"<|endoftext|>\")[0])\n",
    "    \n",
    "    return titles[0]\n",
    "    "
   ]
  }
 ],
 "metadata": {
  "kernelspec": {
   "display_name": "Python 3",
   "language": "python",
   "name": "python3"
  },
  "language_info": {
   "codemirror_mode": {
    "name": "ipython",
    "version": 3
   },
   "file_extension": ".py",
   "mimetype": "text/x-python",
   "name": "python",
   "nbconvert_exporter": "python",
   "pygments_lexer": "ipython3",
   "version": "3.7.10"
  },
  "papermill": {
   "default_parameters": {},
   "duration": 16.049496,
   "end_time": "2021-08-12T12:06:18.935003",
   "environment_variables": {},
   "exception": true,
   "input_path": "__notebook__.ipynb",
   "output_path": "__notebook__.ipynb",
   "parameters": {},
   "start_time": "2021-08-12T12:06:02.885507",
   "version": "2.3.3"
  }
 },
 "nbformat": 4,
 "nbformat_minor": 5
}
